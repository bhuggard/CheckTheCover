{
 "cells": [
  {
   "cell_type": "code",
   "execution_count": 1,
   "metadata": {},
   "outputs": [],
   "source": [
    "import pandas as pd\n",
    "import numpy as np\n",
    "import matplotlib.pyplot as plt\n",
    "import seaborn as sns\n",
    "import nfl_data_py as nfl"
   ]
  },
  {
   "cell_type": "code",
   "execution_count": 2,
   "metadata": {},
   "outputs": [
    {
     "name": "stdout",
     "output_type": "stream",
     "text": [
      "2020 done.\n",
      "2021 done.\n",
      "2022 done.\n",
      "2023 done.\n",
      "Downcasting floats.\n"
     ]
    }
   ],
   "source": [
    "base_pbp = nfl.import_pbp_data([2020, 2021, 2022, 2023], downcast=True, cache=False, alt_path=None)"
   ]
  },
  {
   "cell_type": "code",
   "execution_count": 11,
   "metadata": {},
   "outputs": [],
   "source": [
    "pd.set_option('display.max_columns', None)"
   ]
  },
  {
   "cell_type": "code",
   "execution_count": 12,
   "metadata": {},
   "outputs": [],
   "source": [
    "pd.set_option('display.max_seq_items', None)"
   ]
  },
  {
   "cell_type": "code",
   "execution_count": 13,
   "metadata": {},
   "outputs": [
    {
     "data": {
      "text/plain": [
       "Index(['play_id', 'game_id', 'old_game_id', 'home_team', 'away_team',\n",
       "       'season_type', 'week', 'posteam', 'posteam_type', 'defteam',\n",
       "       'side_of_field', 'yardline_100', 'game_date',\n",
       "       'quarter_seconds_remaining', 'half_seconds_remaining',\n",
       "       'game_seconds_remaining', 'game_half', 'quarter_end', 'drive', 'sp',\n",
       "       'qtr', 'down', 'goal_to_go', 'time', 'yrdln', 'ydstogo', 'ydsnet',\n",
       "       'desc', 'play_type', 'yards_gained', 'shotgun', 'no_huddle',\n",
       "       'qb_dropback', 'qb_kneel', 'qb_spike', 'qb_scramble', 'pass_length',\n",
       "       'pass_location', 'air_yards', 'yards_after_catch', 'run_location',\n",
       "       'run_gap', 'field_goal_result', 'kick_distance', 'extra_point_result',\n",
       "       'two_point_conv_result', 'home_timeouts_remaining',\n",
       "       'away_timeouts_remaining', 'timeout', 'timeout_team', 'td_team',\n",
       "       'td_player_name', 'td_player_id', 'posteam_timeouts_remaining',\n",
       "       'defteam_timeouts_remaining', 'total_home_score', 'total_away_score',\n",
       "       'posteam_score', 'defteam_score', 'score_differential',\n",
       "       'posteam_score_post', 'defteam_score_post', 'score_differential_post',\n",
       "       'no_score_prob', 'opp_fg_prob', 'opp_safety_prob', 'opp_td_prob',\n",
       "       'fg_prob', 'safety_prob', 'td_prob', 'extra_point_prob',\n",
       "       'two_point_conversion_prob', 'ep', 'epa', 'total_home_epa',\n",
       "       'total_away_epa', 'total_home_rush_epa', 'total_away_rush_epa',\n",
       "       'total_home_pass_epa', 'total_away_pass_epa', 'air_epa', 'yac_epa',\n",
       "       'comp_air_epa', 'comp_yac_epa', 'total_home_comp_air_epa',\n",
       "       'total_away_comp_air_epa', 'total_home_comp_yac_epa',\n",
       "       'total_away_comp_yac_epa', 'total_home_raw_air_epa',\n",
       "       'total_away_raw_air_epa', 'total_home_raw_yac_epa',\n",
       "       'total_away_raw_yac_epa', 'wp', 'def_wp', 'home_wp', 'away_wp', 'wpa',\n",
       "       'vegas_wpa', 'vegas_home_wpa', 'home_wp_post', 'away_wp_post',\n",
       "       'vegas_wp', 'vegas_home_wp', 'total_home_rush_wpa',\n",
       "       'total_away_rush_wpa', 'total_home_pass_wpa', 'total_away_pass_wpa',\n",
       "       'air_wpa', 'yac_wpa', 'comp_air_wpa', 'comp_yac_wpa',\n",
       "       'total_home_comp_air_wpa', 'total_away_comp_air_wpa',\n",
       "       'total_home_comp_yac_wpa', 'total_away_comp_yac_wpa',\n",
       "       'total_home_raw_air_wpa', 'total_away_raw_air_wpa',\n",
       "       'total_home_raw_yac_wpa', 'total_away_raw_yac_wpa', 'punt_blocked',\n",
       "       'first_down_rush', 'first_down_pass', 'first_down_penalty',\n",
       "       'third_down_converted', 'third_down_failed', 'fourth_down_converted',\n",
       "       'fourth_down_failed', 'incomplete_pass', 'touchback', 'interception',\n",
       "       'punt_inside_twenty', 'punt_in_endzone', 'punt_out_of_bounds',\n",
       "       'punt_downed', 'punt_fair_catch', 'kickoff_inside_twenty',\n",
       "       'kickoff_in_endzone', 'kickoff_out_of_bounds', 'kickoff_downed',\n",
       "       'kickoff_fair_catch', 'fumble_forced', 'fumble_not_forced',\n",
       "       'fumble_out_of_bounds', 'solo_tackle', 'safety', 'penalty',\n",
       "       'tackled_for_loss', 'fumble_lost', 'own_kickoff_recovery',\n",
       "       'own_kickoff_recovery_td', 'qb_hit', 'rush_attempt', 'pass_attempt',\n",
       "       'sack', 'touchdown', 'pass_touchdown', 'rush_touchdown',\n",
       "       'return_touchdown', 'extra_point_attempt', 'two_point_attempt',\n",
       "       'field_goal_attempt', 'kickoff_attempt', 'punt_attempt', 'fumble',\n",
       "       'complete_pass', 'assist_tackle', 'lateral_reception', 'lateral_rush',\n",
       "       'lateral_return', 'lateral_recovery', 'passer_player_id',\n",
       "       'passer_player_name', 'passing_yards', 'receiver_player_id',\n",
       "       'receiver_player_name', 'receiving_yards', 'rusher_player_id',\n",
       "       'rusher_player_name', 'rushing_yards', 'lateral_receiver_player_id',\n",
       "       'lateral_receiver_player_name', 'lateral_receiving_yards',\n",
       "       'lateral_rusher_player_id', 'lateral_rusher_player_name',\n",
       "       'lateral_rushing_yards', 'lateral_sack_player_id',\n",
       "       'lateral_sack_player_name', 'interception_player_id',\n",
       "       'interception_player_name', 'lateral_interception_player_id',\n",
       "       'lateral_interception_player_name', 'punt_returner_player_id',\n",
       "       'punt_returner_player_name', 'lateral_punt_returner_player_id',\n",
       "       'lateral_punt_returner_player_name', 'kickoff_returner_player_name',\n",
       "       'kickoff_returner_player_id', 'lateral_kickoff_returner_player_id',\n",
       "       'lateral_kickoff_returner_player_name', 'punter_player_id',\n",
       "       'punter_player_name', 'kicker_player_name', 'kicker_player_id',\n",
       "       'own_kickoff_recovery_player_id', 'own_kickoff_recovery_player_name',\n",
       "       'blocked_player_id', 'blocked_player_name',\n",
       "       'tackle_for_loss_1_player_id', 'tackle_for_loss_1_player_name',\n",
       "       'tackle_for_loss_2_player_id', 'tackle_for_loss_2_player_name',\n",
       "       'qb_hit_1_player_id', 'qb_hit_1_player_name', 'qb_hit_2_player_id',\n",
       "       'qb_hit_2_player_name', 'forced_fumble_player_1_team',\n",
       "       'forced_fumble_player_1_player_id',\n",
       "       'forced_fumble_player_1_player_name', 'forced_fumble_player_2_team',\n",
       "       'forced_fumble_player_2_player_id',\n",
       "       'forced_fumble_player_2_player_name', 'solo_tackle_1_team',\n",
       "       'solo_tackle_2_team', 'solo_tackle_1_player_id',\n",
       "       'solo_tackle_2_player_id', 'solo_tackle_1_player_name',\n",
       "       'solo_tackle_2_player_name', 'assist_tackle_1_player_id',\n",
       "       'assist_tackle_1_player_name', 'assist_tackle_1_team',\n",
       "       'assist_tackle_2_player_id', 'assist_tackle_2_player_name',\n",
       "       'assist_tackle_2_team', 'assist_tackle_3_player_id',\n",
       "       'assist_tackle_3_player_name', 'assist_tackle_3_team',\n",
       "       'assist_tackle_4_player_id', 'assist_tackle_4_player_name',\n",
       "       'assist_tackle_4_team', 'tackle_with_assist',\n",
       "       'tackle_with_assist_1_player_id', 'tackle_with_assist_1_player_name',\n",
       "       'tackle_with_assist_1_team', 'tackle_with_assist_2_player_id',\n",
       "       'tackle_with_assist_2_player_name', 'tackle_with_assist_2_team',\n",
       "       'pass_defense_1_player_id', 'pass_defense_1_player_name',\n",
       "       'pass_defense_2_player_id', 'pass_defense_2_player_name',\n",
       "       'fumbled_1_team', 'fumbled_1_player_id', 'fumbled_1_player_name',\n",
       "       'fumbled_2_player_id', 'fumbled_2_player_name', 'fumbled_2_team',\n",
       "       'fumble_recovery_1_team', 'fumble_recovery_1_yards',\n",
       "       'fumble_recovery_1_player_id', 'fumble_recovery_1_player_name',\n",
       "       'fumble_recovery_2_team', 'fumble_recovery_2_yards',\n",
       "       'fumble_recovery_2_player_id', 'fumble_recovery_2_player_name',\n",
       "       'sack_player_id', 'sack_player_name', 'half_sack_1_player_id',\n",
       "       'half_sack_1_player_name', 'half_sack_2_player_id',\n",
       "       'half_sack_2_player_name', 'return_team', 'return_yards',\n",
       "       'penalty_team', 'penalty_player_id', 'penalty_player_name',\n",
       "       'penalty_yards', 'replay_or_challenge', 'replay_or_challenge_result',\n",
       "       'penalty_type', 'defensive_two_point_attempt',\n",
       "       'defensive_two_point_conv', 'defensive_extra_point_attempt',\n",
       "       'defensive_extra_point_conv', 'safety_player_name', 'safety_player_id',\n",
       "       'season', 'cp', 'cpoe', 'series', 'series_success', 'series_result',\n",
       "       'order_sequence', 'start_time', 'time_of_day', 'stadium', 'weather',\n",
       "       'nfl_api_id', 'play_clock', 'play_deleted', 'play_type_nfl',\n",
       "       'special_teams_play', 'st_play_type', 'end_clock_time', 'end_yard_line',\n",
       "       'fixed_drive', 'fixed_drive_result', 'drive_real_start_time',\n",
       "       'drive_play_count', 'drive_time_of_possession', 'drive_first_downs',\n",
       "       'drive_inside20', 'drive_ended_with_score', 'drive_quarter_start',\n",
       "       'drive_quarter_end', 'drive_yards_penalized', 'drive_start_transition',\n",
       "       'drive_end_transition', 'drive_game_clock_start',\n",
       "       'drive_game_clock_end', 'drive_start_yard_line', 'drive_end_yard_line',\n",
       "       'drive_play_id_started', 'drive_play_id_ended', 'away_score',\n",
       "       'home_score', 'location', 'result', 'total', 'spread_line',\n",
       "       'total_line', 'div_game', 'roof', 'surface', 'temp', 'wind',\n",
       "       'home_coach', 'away_coach', 'stadium_id', 'game_stadium',\n",
       "       'aborted_play', 'success', 'passer', 'passer_jersey_number', 'rusher',\n",
       "       'rusher_jersey_number', 'receiver', 'receiver_jersey_number', 'pass',\n",
       "       'rush', 'first_down', 'special', 'play', 'passer_id', 'rusher_id',\n",
       "       'receiver_id', 'name', 'jersey_number', 'id', 'fantasy_player_name',\n",
       "       'fantasy_player_id', 'fantasy', 'fantasy_id', 'out_of_bounds',\n",
       "       'home_opening_kickoff', 'qb_epa', 'xyac_epa', 'xyac_mean_yardage',\n",
       "       'xyac_median_yardage', 'xyac_success', 'xyac_fd', 'xpass', 'pass_oe',\n",
       "       'nflverse_game_id', 'possession_team', 'offense_formation',\n",
       "       'offense_personnel', 'defenders_in_box', 'defense_personnel',\n",
       "       'number_of_pass_rushers', 'players_on_play', 'offense_players',\n",
       "       'defense_players', 'n_offense', 'n_defense', 'ngs_air_yards',\n",
       "       'time_to_throw', 'was_pressure', 'route', 'defense_man_zone_type',\n",
       "       'defense_coverage_type'],\n",
       "      dtype='object')"
      ]
     },
     "execution_count": 13,
     "metadata": {},
     "output_type": "execute_result"
    }
   ],
   "source": [
    "base_pbp.columns"
   ]
  },
  {
   "cell_type": "code",
   "execution_count": 16,
   "metadata": {},
   "outputs": [],
   "source": [
    "firsto = base_pbp[base_pbp['game_id'] == '2020_01_ARI_SF']"
   ]
  },
  {
   "cell_type": "code",
   "execution_count": 21,
   "metadata": {},
   "outputs": [
    {
     "data": {
      "text/plain": [
       "result  total  spread_line  total_line\n",
       "-4      44     7.0          48.5          190\n",
       "dtype: int64"
      ]
     },
     "execution_count": 21,
     "metadata": {},
     "output_type": "execute_result"
    }
   ],
   "source": [
    "gamble_check = firsto[['result', 'total', 'spread_line','total_line']]\n",
    "gamble_check.value_counts()"
   ]
  },
  {
   "cell_type": "code",
   "execution_count": null,
   "metadata": {},
   "outputs": [],
   "source": []
  },
  {
   "cell_type": "code",
   "execution_count": null,
   "metadata": {},
   "outputs": [],
   "source": []
  },
  {
   "cell_type": "code",
   "execution_count": null,
   "metadata": {},
   "outputs": [],
   "source": []
  },
  {
   "cell_type": "code",
   "execution_count": null,
   "metadata": {},
   "outputs": [],
   "source": []
  },
  {
   "cell_type": "code",
   "execution_count": null,
   "metadata": {},
   "outputs": [],
   "source": []
  },
  {
   "cell_type": "code",
   "execution_count": null,
   "metadata": {},
   "outputs": [],
   "source": []
  },
  {
   "cell_type": "code",
   "execution_count": null,
   "metadata": {},
   "outputs": [],
   "source": []
  },
  {
   "cell_type": "code",
   "execution_count": null,
   "metadata": {},
   "outputs": [],
   "source": []
  },
  {
   "cell_type": "code",
   "execution_count": null,
   "metadata": {},
   "outputs": [],
   "source": []
  },
  {
   "cell_type": "code",
   "execution_count": null,
   "metadata": {},
   "outputs": [],
   "source": []
  },
  {
   "cell_type": "code",
   "execution_count": null,
   "metadata": {},
   "outputs": [],
   "source": [
    "base_use = base_pbp.drop(columns = ['old_game_id', ])"
   ]
  }
 ],
 "metadata": {
  "kernelspec": {
   "display_name": "base",
   "language": "python",
   "name": "python3"
  },
  "language_info": {
   "codemirror_mode": {
    "name": "ipython",
    "version": 3
   },
   "file_extension": ".py",
   "mimetype": "text/x-python",
   "name": "python",
   "nbconvert_exporter": "python",
   "pygments_lexer": "ipython3",
   "version": "3.11.4"
  }
 },
 "nbformat": 4,
 "nbformat_minor": 2
}
